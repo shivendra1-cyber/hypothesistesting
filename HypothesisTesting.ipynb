{
  "nbformat": 4,
  "nbformat_minor": 0,
  "metadata": {
    "colab": {
      "provenance": [],
      "authorship_tag": "ABX9TyNI1Y04z3sjEY/HdHrvlw4H",
      "include_colab_link": true
    },
    "kernelspec": {
      "name": "python3",
      "display_name": "Python 3"
    },
    "language_info": {
      "name": "python"
    }
  },
  "cells": [
    {
      "cell_type": "markdown",
      "metadata": {
        "id": "view-in-github",
        "colab_type": "text"
      },
      "source": [
        "<a href=\"https://colab.research.google.com/github/shivendra1-cyber/hypothesistesting/blob/main/HypothesisTesting.ipynb\" target=\"_parent\"><img src=\"https://colab.research.google.com/assets/colab-badge.svg\" alt=\"Open In Colab\"/></a>"
      ]
    },
    {
      "cell_type": "code",
      "execution_count": 1,
      "metadata": {
        "id": "8yVooXUDBA2f"
      },
      "outputs": [],
      "source": [
        "import numpy as np\n",
        "from scipy.stats import binom\n",
        "import matplotlib.pyplot as plt"
      ]
    },
    {
      "cell_type": "code",
      "source": [
        "n = 10\n",
        "p = 0.5\n",
        "x_values = np.arange(0, n+1)"
      ],
      "metadata": {
        "id": "Xwece7zfEHxC"
      },
      "execution_count": 2,
      "outputs": []
    },
    {
      "cell_type": "code",
      "source": [
        "x_values"
      ],
      "metadata": {
        "colab": {
          "base_uri": "https://localhost:8080/"
        },
        "id": "7g75Emr3ELsA",
        "outputId": "43744102-0eda-4dc9-e747-e98dc392bec8"
      },
      "execution_count": 3,
      "outputs": [
        {
          "output_type": "execute_result",
          "data": {
            "text/plain": [
              "array([ 0,  1,  2,  3,  4,  5,  6,  7,  8,  9, 10])"
            ]
          },
          "metadata": {},
          "execution_count": 3
        }
      ]
    },
    {
      "cell_type": "code",
      "source": [
        "y_values = binom.pmf(n=10, p=0.5, k=x_values)"
      ],
      "metadata": {
        "id": "ej7L1m2xEPHw"
      },
      "execution_count": 4,
      "outputs": []
    },
    {
      "cell_type": "code",
      "source": [
        "plt.bar(x_values, y_values)"
      ],
      "metadata": {
        "colab": {
          "base_uri": "https://localhost:8080/",
          "height": 447
        },
        "id": "iVjSCdlXETRI",
        "outputId": "b47c1f1a-51b3-4306-dabf-0063ba646889"
      },
      "execution_count": 5,
      "outputs": [
        {
          "output_type": "execute_result",
          "data": {
            "text/plain": [
              "<BarContainer object of 11 artists>"
            ]
          },
          "metadata": {},
          "execution_count": 5
        },
        {
          "output_type": "display_data",
          "data": {
            "text/plain": [
              "<Figure size 640x480 with 1 Axes>"
            ],
            "image/png": "[encoded data removed]"
          },
          "metadata": {}
        }
      ]
    },
    {
      "cell_type": "code",
      "source": [
        "1 - binom.cdf(n=10, p=0.5, k=6)"
      ],
      "metadata": {
        "colab": {
          "base_uri": "https://localhost:8080/"
        },
        "id": "EvE6Glo1EW4g",
        "outputId": "f699b6ce-bfae-446e-ea2d-41e79a303a65"
      },
      "execution_count": 6,
      "outputs": [
        {
          "output_type": "execute_result",
          "data": {
            "text/plain": [
              "0.171875"
            ]
          },
          "metadata": {},
          "execution_count": 6
        }
      ]
    },
    {
      "cell_type": "code",
      "source": [],
      "metadata": {
        "id": "UBRZI2NBEdYQ"
      },
      "execution_count": 6,
      "outputs": []
    },
    {
      "cell_type": "code",
      "source": [
        "alpha = 0.05"
      ],
      "metadata": {
        "id": "0fckgr2MEaNf"
      },
      "execution_count": 7,
      "outputs": []
    },
    {
      "cell_type": "code",
      "source": [
        "# 7 Heads out of 10\n",
        "p_value = 1 - binom.cdf(n=10, p=0.5, k=6)\n",
        "if p_value < alpha:\n",
        "    print(\"Reject H0\")\n",
        "    print(\"Biased coin\")\n",
        "else:\n",
        "    print(\"Fail to reject H0\")\n",
        "    print(\"Fair coin\")"
      ],
      "metadata": {
        "colab": {
          "base_uri": "https://localhost:8080/"
        },
        "id": "H8WOnu2xEexQ",
        "outputId": "871026c4-49f9-44e9-863f-06cc573c6417"
      },
      "execution_count": 8,
      "outputs": [
        {
          "output_type": "stream",
          "name": "stdout",
          "text": [
            "Fail to reject H0\n",
            "Fair coin\n"
          ]
        }
      ]
    },
    {
      "cell_type": "code",
      "source": [
        "# 70 heads out of 100\n",
        "p_value = 1 - binom.cdf(n=100, p=0.5, k=69)\n",
        "print(p_value)\n",
        "if p_value < alpha:\n",
        "    print(\"Reject H0\")\n",
        "    print(\"Biased coin\")\n",
        "else:\n",
        "    print(\"Fail to reject H0\")\n",
        "    print(\"Fair coin\")"
      ],
      "metadata": {
        "id": "ADyBxYZnEihI",
        "outputId": "4a47c9b5-a6fb-4a75-a8bb-229fad13f158",
        "colab": {
          "base_uri": "https://localhost:8080/"
        }
      },
      "execution_count": 9,
      "outputs": [
        {
          "output_type": "stream",
          "name": "stdout",
          "text": [
            "3.925069822796612e-05\n",
            "Reject H0\n",
            "Biased coin\n"
          ]
        }
      ]
    },
    {
      "cell_type": "code",
      "source": [
        "# 700 heads out of 1000\n",
        "p_value = 1 - binom.cdf(n=1000, p=0.5, k=699)\n",
        "print(p_value)\n",
        "if p_value < alpha:\n",
        "    print(\"Reject H0\")\n",
        "    print(\"Biased coin\")\n",
        "else:\n",
        "    print(\"Fail to reject H0\")\n",
        "    print(\"Fair coin\")"
      ],
      "metadata": {
        "id": "NkZ3RlH7Elvg",
        "outputId": "273b9d99-80bd-49f9-c6b6-ada3a4cd1d6b",
        "colab": {
          "base_uri": "https://localhost:8080/"
        }
      },
      "execution_count": 10,
      "outputs": [
        {
          "output_type": "stream",
          "name": "stdout",
          "text": [
            "0.0\n",
            "Reject H0\n",
            "Biased coin\n"
          ]
        }
      ]
    }
  ]
}